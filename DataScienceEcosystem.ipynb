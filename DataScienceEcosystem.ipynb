{
 "cells": [
  {
   "cell_type": "markdown",
   "id": "aa86fd7e-1484-40a8-8573-4d71ce96d1bc",
   "metadata": {},
   "source": [
    "# Data Science Tools and Ecosystem"
   ]
  },
  {
   "cell_type": "markdown",
   "id": "08731280-a9e5-446c-adde-283bd5d04189",
   "metadata": {},
   "source": [
    "In this notebook, Data Science Tools and Ecosystem are summarized."
   ]
  },
  {
   "cell_type": "markdown",
   "id": "4e9cfb07-a30a-4d7b-969d-228a8991b6bd",
   "metadata": {},
   "source": [
    "**Objectives:**\n",
    "\n",
    "- List data science languages\n",
    "- List data science libraries\n",
    "- Work (code in Python) in a notebook session"
   ]
  },
  {
   "cell_type": "markdown",
   "id": "49e1f988-31f2-4e36-a4b6-93a7a6f43a1a",
   "metadata": {},
   "source": [
    "Some of the popular languages that Data Scientists use are:\n",
    "\n",
    "1. Python\n",
    "2. R\n",
    "3. Julia"
   ]
  },
  {
   "cell_type": "markdown",
   "id": "2357b679-baba-4d19-8380-872b3ca90fb8",
   "metadata": {},
   "source": [
    "Some of the commonly used libraries used by Data Scientists include:\n",
    "\n",
    "1. pandas\n",
    "2. scikit-learn\n",
    "3. matplotlib"
   ]
  },
  {
   "cell_type": "markdown",
   "id": "6820a0b3-b53e-42b6-aad5-6860c862a7e7",
   "metadata": {},
   "source": [
    "|Data Science Tools|\n",
    "|------------------|\n",
    "|Jupyter Notebooks|\n",
    "|JupyterLab|\n",
    "|RStudio|"
   ]
  },
  {
   "cell_type": "markdown",
   "id": "657d5b15-7693-452f-b05b-4273fb3934be",
   "metadata": {},
   "source": [
    "### Below are a few examples of evaluating arithmetic expressions in Python"
   ]
  },
  {
   "cell_type": "code",
   "execution_count": 2,
   "id": "c6ff3e8a-950b-478f-8e8d-5d6cea140f93",
   "metadata": {},
   "outputs": [
    {
     "data": {
      "text/plain": [
       "17"
      ]
     },
     "execution_count": 2,
     "metadata": {},
     "output_type": "execute_result"
    }
   ],
   "source": [
    "# This a simple arithmetic expression to mutiply then add integers\n",
    "(3*4)+5"
   ]
  },
  {
   "cell_type": "code",
   "execution_count": 3,
   "id": "4547a8d2-4e26-4367-b558-a5a6681055de",
   "metadata": {},
   "outputs": [
    {
     "data": {
      "text/plain": [
       "3.3333333333333335"
      ]
     },
     "execution_count": 3,
     "metadata": {},
     "output_type": "execute_result"
    }
   ],
   "source": [
    "# This will convert 200 minutes to hours by diving by 60\n",
    "200/60"
   ]
  },
  {
   "cell_type": "markdown",
   "id": "56cc592b-3574-46fb-90ad-316049fef5f9",
   "metadata": {},
   "source": [
    "## Author\n",
    "Reed Blaylock"
   ]
  }
 ],
 "metadata": {
  "kernelspec": {
   "display_name": "Python 3 (ipykernel)",
   "language": "python",
   "name": "python3"
  },
  "language_info": {
   "codemirror_mode": {
    "name": "ipython",
    "version": 3
   },
   "file_extension": ".py",
   "mimetype": "text/x-python",
   "name": "python",
   "nbconvert_exporter": "python",
   "pygments_lexer": "ipython3",
   "version": "3.11.9"
  }
 },
 "nbformat": 4,
 "nbformat_minor": 5
}
